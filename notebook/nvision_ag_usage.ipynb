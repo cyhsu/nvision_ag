{
 "cells": [
  {
   "cell_type": "code",
   "execution_count": null,
   "id": "cf1ddd46-8b53-43ad-89c6-e0626dba8a5f",
   "metadata": {},
   "outputs": [],
   "source": [
    "import warnings\n",
    "\n",
    "warnings.filterwarnings(\"ignore\")\n",
    "\n",
    "from nvision_ag.nvision_ag import subset_geom, clip_with_harvest, image_processed"
   ]
  },
  {
   "cell_type": "code",
   "execution_count": null,
   "id": "2ea2799d-0e30-4c25-95a7-d666410fc7f0",
   "metadata": {},
   "outputs": [],
   "source": [
    "# Seting up the paths\n",
    "\n",
    "boundary_path = \"./446032/BOUNDARY1015-Rt49_Williams_E80.zip\"\n",
    "yield_data_path = \"./446032/Equipment_Harvest/2022-10-28/8BR1C4R6B/harvest/186_master_debug.zip\""
   ]
  },
  {
   "cell_type": "code",
   "execution_count": null,
   "id": "d00d7762-72c1-4cd0-8b65-5479b36c28ae",
   "metadata": {},
   "outputs": [],
   "source": [
    "# boundary_path = './AgriGeoSpatial/data/445863/BOUNDARY1016-Rt49_Williams_Big.zip'\n",
    "gdf1 = subset_geom(boundary_path)"
   ]
  },
  {
   "cell_type": "code",
   "execution_count": null,
   "id": "247381be-dd95-457f-9680-330acb3be3d4",
   "metadata": {},
   "outputs": [],
   "source": [
    "# yield_data_path = './AgriGeoSpatial/data/445863/Equipment_Harvest/2022-10-22/343PMT4T6/harvest/296_master_debug.zip'\n",
    "valid_geometry_df = clip_with_harvest(gdf1, yield_data_path)"
   ]
  },
  {
   "cell_type": "code",
   "execution_count": null,
   "id": "6195954d-398b-4223-98b7-a91bd1f90473",
   "metadata": {},
   "outputs": [],
   "source": [
    "bands = [\"RGBN\"]\n",
    "bands = {char: idx + 1 for idx, char in enumerate(bands[0])}\n",
    "\n",
    "\n",
    "image, image_path = (\n",
    "    \"Aeroptic\",\n",
    "    \"./446032/Aeroptic/2022-06-28/VVGUNEFVL/merged_out.tif\",\n",
    ")\n",
    "image_trimmed_df = image_processed(valid_geometry_df, image, image_path, bands)\n",
    "\n",
    "print(image_trimmed_df.columns)\n",
    "image_trimmed_df.head()"
   ]
  },
  {
   "cell_type": "code",
   "execution_count": null,
   "id": "9389ccf9-f000-450f-ada7-b97d917ef339",
   "metadata": {
    "scrolled": true,
    "tags": []
   },
   "outputs": [],
   "source": [
    "\n",
    "image, image_path = (\n",
    "    \"Pleiades\",\n",
    "    \"./446032/Airbus_Pleiades/2022-07-05/DX6A21I66/merged_out.tif\",\n",
    ")\n",
    "image_trimmed_df = image_processed(image_trimmed_df, image, image_path, bands)\n",
    "\n",
    "print(image_trimmed_df.columns)\n",
    "image_trimmed_df.head()"
   ]
  },
  {
   "cell_type": "code",
   "execution_count": null,
   "id": "d43129ef-7136-4752-bbac-db2ee6a04082",
   "metadata": {
    "scrolled": true,
    "tags": []
   },
   "outputs": [],
   "source": [
    "\n",
    "image, image_path = (\n",
    "    \"Spot\",\n",
    "    \"./446032/Airbus_Spot/2022-07-03/7Z1WJ1HNV/merged_out.tif\",\n",
    ")\n",
    "image_trimmed_df = image_processed(image_trimmed_df, image, image_path, bands)\n",
    "\n",
    "print(image_trimmed_df.columns)\n",
    "image_trimmed_df.head()"
   ]
  },
  {
   "cell_type": "code",
   "execution_count": null,
   "id": "3be23174-cf61-492b-8b0e-85c6f8078127",
   "metadata": {},
   "outputs": [],
   "source": [
    "image_trimmed_df.to_csv(\"446032-processed.csv\")"
   ]
  },
  {
   "attachments": {},
   "cell_type": "markdown",
   "id": "546c0477",
   "metadata": {},
   "source": []
  }
 ],
 "metadata": {
  "kernelspec": {
   "display_name": "Python 3 (ipykernel)",
   "language": "python",
   "name": "python3"
  },
  "language_info": {
   "codemirror_mode": {
    "name": "ipython",
    "version": 3
   },
   "file_extension": ".py",
   "mimetype": "text/x-python",
   "name": "python",
   "nbconvert_exporter": "python",
   "pygments_lexer": "ipython3",
   "version": "3.10.9"
  }
 },
 "nbformat": 4,
 "nbformat_minor": 5
}
